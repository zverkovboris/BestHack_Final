{
 "cells": [
  {
   "cell_type": "code",
   "execution_count": 20,
   "metadata": {},
   "outputs": [],
   "source": [
    "import pandas as pd\n",
    "import numpy as np\n",
    "import seaborn as sns\n",
    "import matplotlib.pyplot as plt\n",
    "%matplotlib inline"
   ]
  },
  {
   "cell_type": "code",
   "execution_count": 2,
   "metadata": {},
   "outputs": [
    {
     "data": {
      "text/plain": [
       "Location           object\n",
       "MinTemp           float64\n",
       "MaxTemp           float64\n",
       "Rainfall          float64\n",
       "Evaporation       float64\n",
       "Sunshine          float64\n",
       "WindGustDir        object\n",
       "WindGustSpeed     float64\n",
       "WindDir9am         object\n",
       "WindDir3pm         object\n",
       "WindSpeed9am      float64\n",
       "WindSpeed3pm      float64\n",
       "Humidity9am       float64\n",
       "Humidity3pm       float64\n",
       "Pressure9am       float64\n",
       "Pressure3pm       float64\n",
       "Cloud9am          float64\n",
       "Cloud3pm          float64\n",
       "Temp9am           float64\n",
       "Temp3pm           float64\n",
       "RainTomorrow         bool\n",
       "Year                int64\n",
       "Month               int64\n",
       "Day                 int64\n",
       "WindSpeedDelta    float64\n",
       "WindDirChange        bool\n",
       "HumidityDelta     float64\n",
       "PressureDelta     float64\n",
       "CloudDelta        float64\n",
       "TempDelta         float64\n",
       "dtype: object"
      ]
     },
     "execution_count": 2,
     "metadata": {},
     "output_type": "execute_result"
    }
   ],
   "source": [
    "raw_data = pd.read_csv('train_preprocess.csv', sep=';')\n",
    "raw_data.dtypes"
   ]
  },
  {
   "cell_type": "code",
   "execution_count": 3,
   "metadata": {},
   "outputs": [],
   "source": [
    "y = raw_data.RainTomorrow\n",
    "raw_data.drop('RainTomorrow', axis=1, inplace=True)"
   ]
  },
  {
   "cell_type": "code",
   "execution_count": 7,
   "metadata": {},
   "outputs": [],
   "source": [
    "categorical_cols = [cat for cat in raw_data.columns if raw_data[cat].dtype == 'O']\n",
    "numerical_cols = list(set(raw_data.columns.values.tolist()) - set(categorical_cols))"
   ]
  },
  {
   "cell_type": "code",
   "execution_count": 9,
   "metadata": {},
   "outputs": [],
   "source": [
    "numeric_means = raw_data[numerical_cols].mean()\n",
    "X_real_mean = raw_data[numerical_cols].fillna(numeric_means)\n",
    "X_real_zeros = raw_data[numerical_cols].fillna(0)\n",
    "X_cat = raw_data[categorical_cols].fillna('NaN')"
   ]
  },
  {
   "cell_type": "code",
   "execution_count": 12,
   "metadata": {},
   "outputs": [],
   "source": [
    "from sklearn.feature_extraction import DictVectorizer as DV\n",
    "\n",
    "encoder = DV(sparse = False)\n",
    "X_cat_oh = encoder.fit_transform(X_cat.astype('str').T.to_dict().values())"
   ]
  },
  {
   "cell_type": "code",
   "execution_count": 39,
   "metadata": {},
   "outputs": [
    {
     "data": {
      "text/plain": [
       "(70240, 81)"
      ]
     },
     "execution_count": 39,
     "metadata": {},
     "output_type": "execute_result"
    }
   ],
   "source": [
    "X_cat_oh"
   ]
  },
  {
   "cell_type": "code",
   "execution_count": 14,
   "metadata": {},
   "outputs": [
    {
     "data": {
      "text/plain": [
       "(70240, 4)"
      ]
     },
     "execution_count": 14,
     "metadata": {},
     "output_type": "execute_result"
    }
   ],
   "source": [
    "X_cat.shape"
   ]
  },
  {
   "cell_type": "code",
   "execution_count": 22,
   "metadata": {},
   "outputs": [],
   "source": [
    "from sklearn.model_selection import train_test_split\n",
    "\n",
    "(X_train_real_zeros, \n",
    " X_test_real_zeros, \n",
    " y_train, y_test) = train_test_split(X_real_zeros, y, \n",
    "                                     test_size=0.2, \n",
    "                                     random_state=0,\n",
    "                                    stratify=y)\n",
    "(X_train_real_mean, \n",
    " X_test_real_mean) = train_test_split(X_real_mean, \n",
    "                                      test_size=0.2, \n",
    "                                      random_state=0,\n",
    "                                     stratify=y)\n",
    "(X_train_cat_oh, \n",
    " X_test_cat_oh) = train_test_split(X_cat_oh, \n",
    "                                      test_size=0.2, \n",
    "                                      random_state=0,\n",
    "                                     stratify=y)\n",
    "\n",
    "# train_data = raw_data.iloc[:-1000, :]\n",
    "# hold_out_test_data = raw_data.iloc[-1000:, :]"
   ]
  },
  {
   "cell_type": "code",
   "execution_count": 23,
   "metadata": {},
   "outputs": [
    {
     "name": "stdout",
     "output_type": "stream",
     "text": [
      "best zero {'C': 0.5}\n",
      "test score zero 0.8562350896532321\n"
     ]
    },
    {
     "data": {
      "image/png": "[encoded data removed]",
      "text/plain": [
       "<Figure size 432x288 with 1 Axes>"
      ]
     },
     "metadata": {
      "needs_background": "light"
     },
     "output_type": "display_data"
    },
    {
     "name": "stdout",
     "output_type": "stream",
     "text": [
      "best mean {'C': 0.1}\n",
      "test score mean 0.8657392392414482\n"
     ]
    },
    {
     "data": {
      "image/png": "[encoded data removed]",
      "text/plain": [
       "<Figure size 432x288 with 1 Axes>"
      ]
     },
     "metadata": {
      "needs_background": "light"
     },
     "output_type": "display_data"
    }
   ],
   "source": [
    "from sklearn.linear_model import LogisticRegression\n",
    "from sklearn.model_selection import GridSearchCV\n",
    "from sklearn.metrics import roc_auc_score\n",
    "\n",
    "def plot_scores(optimizer):\n",
    "    scores=[]\n",
    "    for i in range(len(optimizer.cv_results_['params'])):\n",
    "        scores.append([optimizer.cv_results_['params'][i]['C'], \n",
    "                optimizer.cv_results_['mean_test_score'][i],\n",
    "                optimizer.cv_results_['std_test_score'][i]])\n",
    "    scores = np.array(scores)\n",
    "    plt.semilogx(scores[:,0], scores[:,1])\n",
    "    plt.fill_between(scores[:,0], scores[:,1]-scores[:,2], \n",
    "                                  scores[:,1]+scores[:,2], alpha=0.3)\n",
    "    plt.show()\n",
    "        \n",
    "param_grid = {'C': [0.01, 0.05, 0.1, 0.5, 1, 5, 10]}\n",
    "cv = 3\n",
    "\n",
    "estimator = LogisticRegression(solver='liblinear')\n",
    "optimizer_zero = GridSearchCV(estimator, param_grid, cv=cv)\n",
    "optimizer_zero.fit(np.hstack((X_train_real_zeros, X_train_cat_oh)), y_train)\n",
    "print(\"best zero\", optimizer_zero.best_params_)\n",
    "auc1 = roc_auc_score(y_test, optimizer_zero.predict_proba(np.hstack((X_test_real_zeros, X_test_cat_oh)))[:, 1])\n",
    "print(\"test score zero \" + str(auc1))\n",
    "plot_scores(optimizer_zero)\n",
    "estimator = LogisticRegression(solver='liblinear')\n",
    "optimizer_mean = GridSearchCV(estimator, param_grid, cv=cv)\n",
    "optimizer_mean.fit(np.hstack((X_train_real_mean, X_train_cat_oh)), y_train)\n",
    "print(\"best mean\", optimizer_mean.best_params_)\n",
    "auc2 = roc_auc_score(y_test, optimizer_mean.predict_proba(np.hstack((X_test_real_mean, X_test_cat_oh)))[:, 1])\n",
    "print(\"test score mean \" + str(auc2))\n",
    "plot_scores(optimizer_mean)"
   ]
  },
  {
   "cell_type": "code",
   "execution_count": 24,
   "metadata": {},
   "outputs": [],
   "source": [
    "from sklearn.preprocessing import StandardScaler\n",
    "scaler_zero = StandardScaler()\n",
    "X_train_real_zero_scaled = scaler_zero.fit_transform(X_train_real_zeros)\n",
    "X_test_real_zero_scaled = scaler_zero.transform(X_test_real_zeros)\n",
    "scaler_mean = StandardScaler()\n",
    "X_train_real_mean_scaled = scaler_mean.fit_transform(X_train_real_mean)\n",
    "X_test_real_mean_scaled = scaler_mean.transform(X_test_real_mean)"
   ]
  },
  {
   "cell_type": "code",
   "execution_count": 25,
   "metadata": {},
   "outputs": [
    {
     "name": "stdout",
     "output_type": "stream",
     "text": [
      "best zero {'C': 5}\n",
      "test score zero 0.8563607299037893\n"
     ]
    },
    {
     "data": {
      "image/png": "[encoded data removed]",
      "text/plain": [
       "<Figure size 432x288 with 1 Axes>"
      ]
     },
     "metadata": {
      "needs_background": "light"
     },
     "output_type": "display_data"
    },
    {
     "name": "stdout",
     "output_type": "stream",
     "text": [
      "best mean {'C': 0.1}\n",
      "test score mean 0.8662456161533723\n"
     ]
    },
    {
     "data": {
      "image/png": "[encoded data removed]",
      "text/plain": [
       "<Figure size 432x288 with 1 Axes>"
      ]
     },
     "metadata": {
      "needs_background": "light"
     },
     "output_type": "display_data"
    }
   ],
   "source": [
    "estimator = LogisticRegression(solver='liblinear', class_weight='balanced')\n",
    "optimizer_zero = GridSearchCV(estimator, param_grid, cv=cv)\n",
    "optimizer_zero.fit(np.hstack((X_train_real_zero_scaled, X_train_cat_oh)), y_train)\n",
    "print(\"best zero\", optimizer_zero.best_params_)\n",
    "auc1 = roc_auc_score(y_test, optimizer_zero.predict_proba(np.hstack((X_test_real_zero_scaled, X_test_cat_oh)))[:, 1])\n",
    "print(\"test score zero \" + str(auc1))\n",
    "plot_scores(optimizer_zero)\n",
    "estimator = LogisticRegression(solver='liblinear', class_weight='balanced')\n",
    "optimizer_mean = GridSearchCV(estimator, param_grid, cv=cv)\n",
    "optimizer_mean.fit(np.hstack((X_train_real_mean_scaled, X_train_cat_oh)), y_train)\n",
    "print(\"best mean\", optimizer_mean.best_params_)\n",
    "auc2 = roc_auc_score(y_test, optimizer_mean.predict_proba(np.hstack((X_test_real_mean_scaled, X_test_cat_oh)))[:, 1])\n",
    "print(\"test score mean \" + str(auc2))\n",
    "plot_scores(optimizer_mean)"
   ]
  },
  {
   "cell_type": "code",
   "execution_count": 28,
   "metadata": {},
   "outputs": [
    {
     "name": "stdout",
     "output_type": "stream",
     "text": [
      "best zero {'C': 10}\n",
      "test score zero 0.8568701253711434\n"
     ]
    },
    {
     "data": {
      "image/png": "[encoded data removed]",
      "text/plain": [
       "<Figure size 432x288 with 1 Axes>"
      ]
     },
     "metadata": {
      "needs_background": "light"
     },
     "output_type": "display_data"
    },
    {
     "name": "stdout",
     "output_type": "stream",
     "text": [
      "best mean {'C': 5}\n",
      "test score mean 0.8665948003674094\n"
     ]
    },
    {
     "data": {
      "image/png": "[encoded data removed]",
      "text/plain": [
       "<Figure size 432x288 with 1 Axes>"
      ]
     },
     "metadata": {
      "needs_background": "light"
     },
     "output_type": "display_data"
    }
   ],
   "source": [
    "estimator = LogisticRegression(solver='liblinear', class_weight='balanced')\n",
    "optimizer_zero = GridSearchCV(estimator, param_grid, cv=cv)\n",
    "optimizer_zero.fit(np.hstack((X_train_real_zero_scaled, X_train_cat_oh)), y_train)\n",
    "print(\"best zero\", optimizer_zero.best_params_)\n",
    "auc1 = roc_auc_score(y_test, optimizer_zero.predict_proba(np.hstack((X_test_real_zero_scaled, X_test_cat_oh)))[:, 1])\n",
    "print(\"test score zero \" + str(auc1))\n",
    "plot_scores(optimizer_zero)\n",
    "estimator = LogisticRegression(solver='liblinear', class_weight='balanced')\n",
    "optimizer_mean = GridSearchCV(estimator, param_grid, cv=cv)\n",
    "optimizer_mean.fit(np.hstack((X_train_real_mean_scaled, X_train_cat_oh)), y_train)\n",
    "print(\"best mean\", optimizer_mean.best_params_)\n",
    "auc2 = roc_auc_score(y_test, optimizer_mean.predict_proba(np.hstack((X_test_real_mean_scaled, X_test_cat_oh)))[:, 1])\n",
    "print(\"test score mean \" + str(auc2))\n",
    "plot_scores(optimizer_mean)"
   ]
  },
  {
   "cell_type": "code",
   "execution_count": 32,
   "metadata": {},
   "outputs": [
    {
     "name": "stdout",
     "output_type": "stream",
     "text": [
      "best {'C': 0.1, 'penalty': 'l1'}\n",
      "test score0.8668043336773821\n"
     ]
    },
    {
     "data": {
      "image/png": "[encoded data removed]",
      "text/plain": [
       "<Figure size 432x288 with 1 Axes>"
      ]
     },
     "metadata": {
      "needs_background": "light"
     },
     "output_type": "display_data"
    }
   ],
   "source": [
    "X_train = np.hstack((X_train_real_mean_scaled, X_train_cat_oh))\n",
    "X_test = np.hstack((X_test_real_mean_scaled, X_test_cat_oh))\n",
    "\n",
    "param_grid = {'C': [0.01, 0.05, 0.1, 0.5, 1, 5, 10],\n",
    "             'penalty': ['l1', 'l2']}\n",
    "\n",
    "\n",
    "estimator = LogisticRegression(solver='liblinear', class_weight='balanced')\n",
    "optimizer_zero = GridSearchCV(estimator, param_grid, cv=5)\n",
    "optimizer_zero.fit(X_train, y_train)\n",
    "print(\"best\", optimizer_zero.best_params_)\n",
    "auc = roc_auc_score(y_test, optimizer_zero.predict_proba(X_test)[:, 1])\n",
    "print(\"test score\" + str(auc))\n",
    "plot_scores(optimizer_zero)"
   ]
  },
  {
   "cell_type": "code",
   "execution_count": 54,
   "metadata": {},
   "outputs": [
    {
     "data": {
      "text/plain": [
       "array([[8592, 2203],\n",
       "       [ 766, 2487]])"
      ]
     },
     "execution_count": 54,
     "metadata": {},
     "output_type": "execute_result"
    }
   ],
   "source": [
    "from sklearn.metrics import confusion_matrix\n",
    "confusion_matrix(y_test, optimizer_zero.predict(X_test))"
   ]
  },
  {
   "cell_type": "code",
   "execution_count": 41,
   "metadata": {},
   "outputs": [],
   "source": [
    "ind = [i for i in range(optimizer_zero.best_estimator_.coef_.shape[1]) if optimizer_zero.best_estimator_.coef_[0, i] == 0.0]"
   ]
  },
  {
   "cell_type": "code",
   "execution_count": 42,
   "metadata": {},
   "outputs": [
    {
     "data": {
      "text/plain": [
       "[35, 38, 45, 46, 72, 75, 78, 87, 95, 101]"
      ]
     },
     "execution_count": 42,
     "metadata": {},
     "output_type": "execute_result"
    }
   ],
   "source": [
    "ind"
   ]
  },
  {
   "cell_type": "code",
   "execution_count": 40,
   "metadata": {},
   "outputs": [
    {
     "data": {
      "text/plain": [
       "25"
      ]
     },
     "execution_count": 40,
     "metadata": {},
     "output_type": "execute_result"
    }
   ],
   "source": [
    "len(numerical_cols)"
   ]
  },
  {
   "cell_type": "code",
   "execution_count": 45,
   "metadata": {},
   "outputs": [],
   "source": [
    "columns = [encoder.feature_names_[i - 25] for i in ind]"
   ]
  },
  {
   "cell_type": "code",
   "execution_count": 46,
   "metadata": {},
   "outputs": [
    {
     "data": {
      "text/plain": [
       "['Location=Melbourne',\n",
       " 'Location=Moree',\n",
       " 'Location=Portland',\n",
       " 'Location=Richmond',\n",
       " 'WindDir9am=E',\n",
       " 'WindDir9am=N',\n",
       " 'WindDir9am=NNW',\n",
       " 'WindDir9am=WNW',\n",
       " 'WindGustDir=NNW',\n",
       " 'WindGustDir=SSW']"
      ]
     },
     "execution_count": 46,
     "metadata": {},
     "output_type": "execute_result"
    }
   ],
   "source": [
    "columns"
   ]
  },
  {
   "cell_type": "code",
   "execution_count": 49,
   "metadata": {},
   "outputs": [
    {
     "data": {
      "text/plain": [
       "array(['Albury', 'BadgerysCreek', 'Cobar', 'CoffsHarbour', 'Moree',\n",
       "       'Newcastle', 'NorahHead', 'NorfolkIsland', 'Penrith', 'Richmond',\n",
       "       'Sydney', 'SydneyAirport', 'WaggaWagga', 'Williamtown',\n",
       "       'Wollongong', 'Canberra', 'Tuggeranong', 'MountGinini', 'Ballarat',\n",
       "       'Bendigo', 'Sale', 'MelbourneAirport', 'Melbourne', 'Mildura',\n",
       "       'Nhil', 'Portland', 'Watsonia', 'Dartmoor', 'Brisbane', 'Cairns'],\n",
       "      dtype=object)"
      ]
     },
     "execution_count": 49,
     "metadata": {},
     "output_type": "execute_result"
    }
   ],
   "source": [
    "raw_data.Location.unique()"
   ]
  },
  {
   "cell_type": "code",
   "execution_count": 50,
   "metadata": {},
   "outputs": [
    {
     "data": {
      "text/plain": [
       "array(['Albury', 'BadgerysCreek', 'Cobar', 'CoffsHarbour', 'Moree',\n",
       "       'Newcastle', 'NorahHead', 'NorfolkIsland', 'Penrith', 'Richmond',\n",
       "       'Sydney', 'SydneyAirport', 'WaggaWagga', 'Williamtown',\n",
       "       'Wollongong', 'Canberra', 'Tuggeranong', 'MountGinini', 'Ballarat',\n",
       "       'Bendigo', 'Sale', 'MelbourneAirport', 'Melbourne', 'Mildura',\n",
       "       'Nhil', 'Portland', 'Watsonia', 'Dartmoor', 'Brisbane', 'Cairns'],\n",
       "      dtype=object)"
      ]
     },
     "execution_count": 50,
     "metadata": {},
     "output_type": "execute_result"
    }
   ],
   "source": [
    "test_dat = pd.read_csv('test_preprocess.csv', ';')\n",
    "test_dat.Location.unique()"
   ]
  },
  {
   "cell_type": "code",
   "execution_count": 51,
   "metadata": {},
   "outputs": [
    {
     "data": {
      "text/html": [
       "<div>\n",
       "<style scoped>\n",
       "    .dataframe tbody tr th:only-of-type {\n",
       "        vertical-align: middle;\n",
       "    }\n",
       "\n",
       "    .dataframe tbody tr th {\n",
       "        vertical-align: top;\n",
       "    }\n",
       "\n",
       "    .dataframe thead th {\n",
       "        text-align: right;\n",
       "    }\n",
       "</style>\n",
       "<table border=\"1\" class=\"dataframe\">\n",
       "  <thead>\n",
       "    <tr style=\"text-align: right;\">\n",
       "      <th></th>\n",
       "      <th>Location</th>\n",
       "      <th>MinTemp</th>\n",
       "      <th>MaxTemp</th>\n",
       "      <th>Rainfall</th>\n",
       "      <th>Evaporation</th>\n",
       "      <th>Sunshine</th>\n",
       "      <th>WindGustDir</th>\n",
       "      <th>WindGustSpeed</th>\n",
       "      <th>WindDir9am</th>\n",
       "      <th>WindDir3pm</th>\n",
       "      <th>...</th>\n",
       "      <th>Temp3pm</th>\n",
       "      <th>Year</th>\n",
       "      <th>Month</th>\n",
       "      <th>Day</th>\n",
       "      <th>WindSpeedDelta</th>\n",
       "      <th>WindDirChange</th>\n",
       "      <th>HumidityDelta</th>\n",
       "      <th>PressureDelta</th>\n",
       "      <th>CloudDelta</th>\n",
       "      <th>TempDelta</th>\n",
       "    </tr>\n",
       "  </thead>\n",
       "  <tbody>\n",
       "    <tr>\n",
       "      <th>0</th>\n",
       "      <td>Albury</td>\n",
       "      <td>13.6</td>\n",
       "      <td>25.3</td>\n",
       "      <td>0.0</td>\n",
       "      <td>NaN</td>\n",
       "      <td>NaN</td>\n",
       "      <td>SE</td>\n",
       "      <td>48.0</td>\n",
       "      <td>SE</td>\n",
       "      <td>SE</td>\n",
       "      <td>...</td>\n",
       "      <td>23.8</td>\n",
       "      <td>2015</td>\n",
       "      <td>10</td>\n",
       "      <td>27</td>\n",
       "      <td>-9.0</td>\n",
       "      <td>False</td>\n",
       "      <td>-11.0</td>\n",
       "      <td>-2.2</td>\n",
       "      <td>NaN</td>\n",
       "      <td>8.0</td>\n",
       "    </tr>\n",
       "    <tr>\n",
       "      <th>1</th>\n",
       "      <td>Albury</td>\n",
       "      <td>6.2</td>\n",
       "      <td>25.5</td>\n",
       "      <td>0.0</td>\n",
       "      <td>NaN</td>\n",
       "      <td>NaN</td>\n",
       "      <td>NE</td>\n",
       "      <td>19.0</td>\n",
       "      <td>ENE</td>\n",
       "      <td>SSW</td>\n",
       "      <td>...</td>\n",
       "      <td>23.6</td>\n",
       "      <td>2015</td>\n",
       "      <td>10</td>\n",
       "      <td>28</td>\n",
       "      <td>5.0</td>\n",
       "      <td>True</td>\n",
       "      <td>-25.0</td>\n",
       "      <td>-5.5</td>\n",
       "      <td>NaN</td>\n",
       "      <td>8.8</td>\n",
       "    </tr>\n",
       "    <tr>\n",
       "      <th>2</th>\n",
       "      <td>Albury</td>\n",
       "      <td>9.3</td>\n",
       "      <td>27.9</td>\n",
       "      <td>0.0</td>\n",
       "      <td>NaN</td>\n",
       "      <td>NaN</td>\n",
       "      <td>SE</td>\n",
       "      <td>22.0</td>\n",
       "      <td>ESE</td>\n",
       "      <td>SSE</td>\n",
       "      <td>...</td>\n",
       "      <td>27.2</td>\n",
       "      <td>2015</td>\n",
       "      <td>10</td>\n",
       "      <td>29</td>\n",
       "      <td>6.0</td>\n",
       "      <td>True</td>\n",
       "      <td>-33.0</td>\n",
       "      <td>-3.0</td>\n",
       "      <td>NaN</td>\n",
       "      <td>8.7</td>\n",
       "    </tr>\n",
       "    <tr>\n",
       "      <th>3</th>\n",
       "      <td>Albury</td>\n",
       "      <td>9.7</td>\n",
       "      <td>28.1</td>\n",
       "      <td>0.0</td>\n",
       "      <td>NaN</td>\n",
       "      <td>NaN</td>\n",
       "      <td>ENE</td>\n",
       "      <td>28.0</td>\n",
       "      <td>SE</td>\n",
       "      <td>E</td>\n",
       "      <td>...</td>\n",
       "      <td>27.2</td>\n",
       "      <td>2015</td>\n",
       "      <td>10</td>\n",
       "      <td>30</td>\n",
       "      <td>8.0</td>\n",
       "      <td>True</td>\n",
       "      <td>-23.0</td>\n",
       "      <td>-3.9</td>\n",
       "      <td>NaN</td>\n",
       "      <td>9.4</td>\n",
       "    </tr>\n",
       "    <tr>\n",
       "      <th>4</th>\n",
       "      <td>Albury</td>\n",
       "      <td>17.1</td>\n",
       "      <td>21.7</td>\n",
       "      <td>5.4</td>\n",
       "      <td>NaN</td>\n",
       "      <td>NaN</td>\n",
       "      <td>ENE</td>\n",
       "      <td>28.0</td>\n",
       "      <td>SE</td>\n",
       "      <td>NE</td>\n",
       "      <td>...</td>\n",
       "      <td>19.2</td>\n",
       "      <td>2015</td>\n",
       "      <td>10</td>\n",
       "      <td>31</td>\n",
       "      <td>4.0</td>\n",
       "      <td>True</td>\n",
       "      <td>-13.0</td>\n",
       "      <td>-2.2</td>\n",
       "      <td>1.0</td>\n",
       "      <td>1.0</td>\n",
       "    </tr>\n",
       "  </tbody>\n",
       "</table>\n",
       "<p>5 rows × 29 columns</p>\n",
       "</div>"
      ],
      "text/plain": [
       "  Location  MinTemp  MaxTemp  Rainfall  Evaporation  Sunshine WindGustDir  \\\n",
       "0   Albury     13.6     25.3       0.0          NaN       NaN          SE   \n",
       "1   Albury      6.2     25.5       0.0          NaN       NaN          NE   \n",
       "2   Albury      9.3     27.9       0.0          NaN       NaN          SE   \n",
       "3   Albury      9.7     28.1       0.0          NaN       NaN         ENE   \n",
       "4   Albury     17.1     21.7       5.4          NaN       NaN         ENE   \n",
       "\n",
       "   WindGustSpeed WindDir9am WindDir3pm  ...  Temp3pm  Year  Month  Day  \\\n",
       "0           48.0         SE         SE  ...     23.8  2015     10   27   \n",
       "1           19.0        ENE        SSW  ...     23.6  2015     10   28   \n",
       "2           22.0        ESE        SSE  ...     27.2  2015     10   29   \n",
       "3           28.0         SE          E  ...     27.2  2015     10   30   \n",
       "4           28.0         SE         NE  ...     19.2  2015     10   31   \n",
       "\n",
       "   WindSpeedDelta  WindDirChange  HumidityDelta  PressureDelta  CloudDelta  \\\n",
       "0            -9.0          False          -11.0           -2.2         NaN   \n",
       "1             5.0           True          -25.0           -5.5         NaN   \n",
       "2             6.0           True          -33.0           -3.0         NaN   \n",
       "3             8.0           True          -23.0           -3.9         NaN   \n",
       "4             4.0           True          -13.0           -2.2         1.0   \n",
       "\n",
       "   TempDelta  \n",
       "0        8.0  \n",
       "1        8.8  \n",
       "2        8.7  \n",
       "3        9.4  \n",
       "4        1.0  \n",
       "\n",
       "[5 rows x 29 columns]"
      ]
     },
     "execution_count": 51,
     "metadata": {},
     "output_type": "execute_result"
    }
   ],
   "source": [
    "test_dat.head()"
   ]
  },
  {
   "cell_type": "code",
   "execution_count": 53,
   "metadata": {},
   "outputs": [
    {
     "data": {
      "text/html": [
       "<div>\n",
       "<style scoped>\n",
       "    .dataframe tbody tr th:only-of-type {\n",
       "        vertical-align: middle;\n",
       "    }\n",
       "\n",
       "    .dataframe tbody tr th {\n",
       "        vertical-align: top;\n",
       "    }\n",
       "\n",
       "    .dataframe thead th {\n",
       "        text-align: right;\n",
       "    }\n",
       "</style>\n",
       "<table border=\"1\" class=\"dataframe\">\n",
       "  <thead>\n",
       "    <tr style=\"text-align: right;\">\n",
       "      <th></th>\n",
       "      <th>Location</th>\n",
       "      <th>MinTemp</th>\n",
       "      <th>MaxTemp</th>\n",
       "      <th>Rainfall</th>\n",
       "      <th>Evaporation</th>\n",
       "      <th>Sunshine</th>\n",
       "      <th>WindGustDir</th>\n",
       "      <th>WindGustSpeed</th>\n",
       "      <th>WindDir9am</th>\n",
       "      <th>WindDir3pm</th>\n",
       "      <th>...</th>\n",
       "      <th>Temp3pm</th>\n",
       "      <th>Year</th>\n",
       "      <th>Month</th>\n",
       "      <th>Day</th>\n",
       "      <th>WindSpeedDelta</th>\n",
       "      <th>WindDirChange</th>\n",
       "      <th>HumidityDelta</th>\n",
       "      <th>PressureDelta</th>\n",
       "      <th>CloudDelta</th>\n",
       "      <th>TempDelta</th>\n",
       "    </tr>\n",
       "  </thead>\n",
       "  <tbody>\n",
       "    <tr>\n",
       "      <th>598</th>\n",
       "      <td>Albury</td>\n",
       "      <td>1.2</td>\n",
       "      <td>15.2</td>\n",
       "      <td>0.4</td>\n",
       "      <td>NaN</td>\n",
       "      <td>NaN</td>\n",
       "      <td>ENE</td>\n",
       "      <td>15.0</td>\n",
       "      <td>NaN</td>\n",
       "      <td>NNE</td>\n",
       "      <td>...</td>\n",
       "      <td>14.3</td>\n",
       "      <td>2017</td>\n",
       "      <td>6</td>\n",
       "      <td>21</td>\n",
       "      <td>2.0</td>\n",
       "      <td>True</td>\n",
       "      <td>-38.0</td>\n",
       "      <td>-2.7</td>\n",
       "      <td>NaN</td>\n",
       "      <td>11.4</td>\n",
       "    </tr>\n",
       "    <tr>\n",
       "      <th>599</th>\n",
       "      <td>Albury</td>\n",
       "      <td>0.8</td>\n",
       "      <td>13.4</td>\n",
       "      <td>0.0</td>\n",
       "      <td>NaN</td>\n",
       "      <td>NaN</td>\n",
       "      <td>W</td>\n",
       "      <td>17.0</td>\n",
       "      <td>S</td>\n",
       "      <td>NaN</td>\n",
       "      <td>...</td>\n",
       "      <td>13.3</td>\n",
       "      <td>2017</td>\n",
       "      <td>6</td>\n",
       "      <td>22</td>\n",
       "      <td>-6.0</td>\n",
       "      <td>True</td>\n",
       "      <td>-34.0</td>\n",
       "      <td>-3.5</td>\n",
       "      <td>-7.0</td>\n",
       "      <td>9.7</td>\n",
       "    </tr>\n",
       "    <tr>\n",
       "      <th>600</th>\n",
       "      <td>Albury</td>\n",
       "      <td>1.1</td>\n",
       "      <td>11.9</td>\n",
       "      <td>0.0</td>\n",
       "      <td>NaN</td>\n",
       "      <td>NaN</td>\n",
       "      <td>SE</td>\n",
       "      <td>44.0</td>\n",
       "      <td>SSE</td>\n",
       "      <td>SSE</td>\n",
       "      <td>...</td>\n",
       "      <td>10.2</td>\n",
       "      <td>2017</td>\n",
       "      <td>6</td>\n",
       "      <td>23</td>\n",
       "      <td>-7.0</td>\n",
       "      <td>False</td>\n",
       "      <td>-19.0</td>\n",
       "      <td>-4.6</td>\n",
       "      <td>-7.0</td>\n",
       "      <td>7.5</td>\n",
       "    </tr>\n",
       "    <tr>\n",
       "      <th>601</th>\n",
       "      <td>Albury</td>\n",
       "      <td>1.1</td>\n",
       "      <td>14.1</td>\n",
       "      <td>0.2</td>\n",
       "      <td>NaN</td>\n",
       "      <td>NaN</td>\n",
       "      <td>WSW</td>\n",
       "      <td>28.0</td>\n",
       "      <td>SW</td>\n",
       "      <td>W</td>\n",
       "      <td>...</td>\n",
       "      <td>13.1</td>\n",
       "      <td>2017</td>\n",
       "      <td>6</td>\n",
       "      <td>24</td>\n",
       "      <td>11.0</td>\n",
       "      <td>True</td>\n",
       "      <td>-51.0</td>\n",
       "      <td>-1.6</td>\n",
       "      <td>-1.0</td>\n",
       "      <td>9.2</td>\n",
       "    </tr>\n",
       "    <tr>\n",
       "      <th>602</th>\n",
       "      <td>Albury</td>\n",
       "      <td>3.9</td>\n",
       "      <td>10.9</td>\n",
       "      <td>0.0</td>\n",
       "      <td>NaN</td>\n",
       "      <td>NaN</td>\n",
       "      <td>NNW</td>\n",
       "      <td>28.0</td>\n",
       "      <td>S</td>\n",
       "      <td>NaN</td>\n",
       "      <td>...</td>\n",
       "      <td>8.8</td>\n",
       "      <td>2017</td>\n",
       "      <td>6</td>\n",
       "      <td>25</td>\n",
       "      <td>-6.0</td>\n",
       "      <td>True</td>\n",
       "      <td>-6.0</td>\n",
       "      <td>-1.7</td>\n",
       "      <td>1.0</td>\n",
       "      <td>2.4</td>\n",
       "    </tr>\n",
       "  </tbody>\n",
       "</table>\n",
       "<p>5 rows × 29 columns</p>\n",
       "</div>"
      ],
      "text/plain": [
       "    Location  MinTemp  MaxTemp  Rainfall  Evaporation  Sunshine WindGustDir  \\\n",
       "598   Albury      1.2     15.2       0.4          NaN       NaN         ENE   \n",
       "599   Albury      0.8     13.4       0.0          NaN       NaN           W   \n",
       "600   Albury      1.1     11.9       0.0          NaN       NaN          SE   \n",
       "601   Albury      1.1     14.1       0.2          NaN       NaN         WSW   \n",
       "602   Albury      3.9     10.9       0.0          NaN       NaN         NNW   \n",
       "\n",
       "     WindGustSpeed WindDir9am WindDir3pm  ...  Temp3pm  Year  Month  Day  \\\n",
       "598           15.0        NaN        NNE  ...     14.3  2017      6   21   \n",
       "599           17.0          S        NaN  ...     13.3  2017      6   22   \n",
       "600           44.0        SSE        SSE  ...     10.2  2017      6   23   \n",
       "601           28.0         SW          W  ...     13.1  2017      6   24   \n",
       "602           28.0          S        NaN  ...      8.8  2017      6   25   \n",
       "\n",
       "     WindSpeedDelta  WindDirChange  HumidityDelta  PressureDelta  CloudDelta  \\\n",
       "598             2.0           True          -38.0           -2.7         NaN   \n",
       "599            -6.0           True          -34.0           -3.5        -7.0   \n",
       "600            -7.0          False          -19.0           -4.6        -7.0   \n",
       "601            11.0           True          -51.0           -1.6        -1.0   \n",
       "602            -6.0           True           -6.0           -1.7         1.0   \n",
       "\n",
       "     TempDelta  \n",
       "598       11.4  \n",
       "599        9.7  \n",
       "600        7.5  \n",
       "601        9.2  \n",
       "602        2.4  \n",
       "\n",
       "[5 rows x 29 columns]"
      ]
     },
     "execution_count": 53,
     "metadata": {},
     "output_type": "execute_result"
    }
   ],
   "source": [
    "test_dat.loc[test_dat.Location == 'Albury'].tail()"
   ]
  },
  {
   "cell_type": "code",
   "execution_count": 52,
   "metadata": {},
   "outputs": [
    {
     "data": {
      "text/html": [
       "<div>\n",
       "<style scoped>\n",
       "    .dataframe tbody tr th:only-of-type {\n",
       "        vertical-align: middle;\n",
       "    }\n",
       "\n",
       "    .dataframe tbody tr th {\n",
       "        vertical-align: top;\n",
       "    }\n",
       "\n",
       "    .dataframe thead th {\n",
       "        text-align: right;\n",
       "    }\n",
       "</style>\n",
       "<table border=\"1\" class=\"dataframe\">\n",
       "  <thead>\n",
       "    <tr style=\"text-align: right;\">\n",
       "      <th></th>\n",
       "      <th>Location</th>\n",
       "      <th>MinTemp</th>\n",
       "      <th>MaxTemp</th>\n",
       "      <th>Rainfall</th>\n",
       "      <th>Evaporation</th>\n",
       "      <th>Sunshine</th>\n",
       "      <th>WindGustDir</th>\n",
       "      <th>WindGustSpeed</th>\n",
       "      <th>WindDir9am</th>\n",
       "      <th>WindDir3pm</th>\n",
       "      <th>...</th>\n",
       "      <th>Temp3pm</th>\n",
       "      <th>Year</th>\n",
       "      <th>Month</th>\n",
       "      <th>Day</th>\n",
       "      <th>WindSpeedDelta</th>\n",
       "      <th>WindDirChange</th>\n",
       "      <th>HumidityDelta</th>\n",
       "      <th>PressureDelta</th>\n",
       "      <th>CloudDelta</th>\n",
       "      <th>TempDelta</th>\n",
       "    </tr>\n",
       "  </thead>\n",
       "  <tbody>\n",
       "    <tr>\n",
       "      <th>2402</th>\n",
       "      <td>Albury</td>\n",
       "      <td>16.6</td>\n",
       "      <td>24.7</td>\n",
       "      <td>1.6</td>\n",
       "      <td>NaN</td>\n",
       "      <td>NaN</td>\n",
       "      <td>NNW</td>\n",
       "      <td>43.0</td>\n",
       "      <td>E</td>\n",
       "      <td>N</td>\n",
       "      <td>...</td>\n",
       "      <td>22.2</td>\n",
       "      <td>2015</td>\n",
       "      <td>10</td>\n",
       "      <td>21</td>\n",
       "      <td>19.0</td>\n",
       "      <td>True</td>\n",
       "      <td>-14.0</td>\n",
       "      <td>-1.3</td>\n",
       "      <td>0.0</td>\n",
       "      <td>1.4</td>\n",
       "    </tr>\n",
       "    <tr>\n",
       "      <th>2403</th>\n",
       "      <td>Albury</td>\n",
       "      <td>13.3</td>\n",
       "      <td>25.2</td>\n",
       "      <td>0.8</td>\n",
       "      <td>NaN</td>\n",
       "      <td>NaN</td>\n",
       "      <td>ESE</td>\n",
       "      <td>33.0</td>\n",
       "      <td>SSE</td>\n",
       "      <td>ESE</td>\n",
       "      <td>...</td>\n",
       "      <td>24.4</td>\n",
       "      <td>2015</td>\n",
       "      <td>10</td>\n",
       "      <td>22</td>\n",
       "      <td>0.0</td>\n",
       "      <td>True</td>\n",
       "      <td>-22.0</td>\n",
       "      <td>-1.0</td>\n",
       "      <td>NaN</td>\n",
       "      <td>5.9</td>\n",
       "    </tr>\n",
       "    <tr>\n",
       "      <th>2404</th>\n",
       "      <td>Albury</td>\n",
       "      <td>14.1</td>\n",
       "      <td>24.6</td>\n",
       "      <td>0.2</td>\n",
       "      <td>NaN</td>\n",
       "      <td>NaN</td>\n",
       "      <td>N</td>\n",
       "      <td>33.0</td>\n",
       "      <td>SE</td>\n",
       "      <td>NE</td>\n",
       "      <td>...</td>\n",
       "      <td>22.5</td>\n",
       "      <td>2015</td>\n",
       "      <td>10</td>\n",
       "      <td>23</td>\n",
       "      <td>-4.0</td>\n",
       "      <td>True</td>\n",
       "      <td>-18.0</td>\n",
       "      <td>-2.3</td>\n",
       "      <td>0.0</td>\n",
       "      <td>5.6</td>\n",
       "    </tr>\n",
       "    <tr>\n",
       "      <th>2405</th>\n",
       "      <td>Albury</td>\n",
       "      <td>10.3</td>\n",
       "      <td>26.6</td>\n",
       "      <td>0.0</td>\n",
       "      <td>NaN</td>\n",
       "      <td>NaN</td>\n",
       "      <td>W</td>\n",
       "      <td>30.0</td>\n",
       "      <td>SE</td>\n",
       "      <td>ESE</td>\n",
       "      <td>...</td>\n",
       "      <td>24.5</td>\n",
       "      <td>2015</td>\n",
       "      <td>10</td>\n",
       "      <td>24</td>\n",
       "      <td>2.0</td>\n",
       "      <td>True</td>\n",
       "      <td>-35.0</td>\n",
       "      <td>-3.3</td>\n",
       "      <td>NaN</td>\n",
       "      <td>7.3</td>\n",
       "    </tr>\n",
       "    <tr>\n",
       "      <th>2406</th>\n",
       "      <td>Albury</td>\n",
       "      <td>10.0</td>\n",
       "      <td>30.5</td>\n",
       "      <td>0.0</td>\n",
       "      <td>NaN</td>\n",
       "      <td>NaN</td>\n",
       "      <td>ENE</td>\n",
       "      <td>28.0</td>\n",
       "      <td>ESE</td>\n",
       "      <td>N</td>\n",
       "      <td>...</td>\n",
       "      <td>29.7</td>\n",
       "      <td>2015</td>\n",
       "      <td>10</td>\n",
       "      <td>25</td>\n",
       "      <td>-1.0</td>\n",
       "      <td>True</td>\n",
       "      <td>-47.0</td>\n",
       "      <td>-4.7</td>\n",
       "      <td>NaN</td>\n",
       "      <td>12.0</td>\n",
       "    </tr>\n",
       "  </tbody>\n",
       "</table>\n",
       "<p>5 rows × 29 columns</p>\n",
       "</div>"
      ],
      "text/plain": [
       "     Location  MinTemp  MaxTemp  Rainfall  Evaporation  Sunshine WindGustDir  \\\n",
       "2402   Albury     16.6     24.7       1.6          NaN       NaN         NNW   \n",
       "2403   Albury     13.3     25.2       0.8          NaN       NaN         ESE   \n",
       "2404   Albury     14.1     24.6       0.2          NaN       NaN           N   \n",
       "2405   Albury     10.3     26.6       0.0          NaN       NaN           W   \n",
       "2406   Albury     10.0     30.5       0.0          NaN       NaN         ENE   \n",
       "\n",
       "      WindGustSpeed WindDir9am WindDir3pm  ...  Temp3pm  Year  Month  Day  \\\n",
       "2402           43.0          E          N  ...     22.2  2015     10   21   \n",
       "2403           33.0        SSE        ESE  ...     24.4  2015     10   22   \n",
       "2404           33.0         SE         NE  ...     22.5  2015     10   23   \n",
       "2405           30.0         SE        ESE  ...     24.5  2015     10   24   \n",
       "2406           28.0        ESE          N  ...     29.7  2015     10   25   \n",
       "\n",
       "      WindSpeedDelta  WindDirChange  HumidityDelta  PressureDelta  CloudDelta  \\\n",
       "2402            19.0           True          -14.0           -1.3         0.0   \n",
       "2403             0.0           True          -22.0           -1.0         NaN   \n",
       "2404            -4.0           True          -18.0           -2.3         0.0   \n",
       "2405             2.0           True          -35.0           -3.3         NaN   \n",
       "2406            -1.0           True          -47.0           -4.7         NaN   \n",
       "\n",
       "      TempDelta  \n",
       "2402        1.4  \n",
       "2403        5.9  \n",
       "2404        5.6  \n",
       "2405        7.3  \n",
       "2406       12.0  \n",
       "\n",
       "[5 rows x 29 columns]"
      ]
     },
     "execution_count": 52,
     "metadata": {},
     "output_type": "execute_result"
    }
   ],
   "source": [
    "raw_data.loc[raw_data.Location == 'Albury'].tail()"
   ]
  },
  {
   "cell_type": "code",
   "execution_count": null,
   "metadata": {},
   "outputs": [],
   "source": []
  }
 ],
 "metadata": {
  "kernelspec": {
   "display_name": "Python 3",
   "language": "python",
   "name": "python3"
  },
  "language_info": {
   "codemirror_mode": {
    "name": "ipython",
    "version": 3
   },
   "file_extension": ".py",
   "mimetype": "text/x-python",
   "name": "python",
   "nbconvert_exporter": "python",
   "pygments_lexer": "ipython3",
   "version": "3.5.2"
  }
 },
 "nbformat": 4,
 "nbformat_minor": 2
}
